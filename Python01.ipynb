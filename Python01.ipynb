{
  "nbformat": 4,
  "nbformat_minor": 0,
  "metadata": {
    "colab": {
      "name": "Python01.ipynb",
      "provenance": [],
      "authorship_tag": "ABX9TyO0OCFA2n1y2aw/NzmxCQx5",
      "include_colab_link": true
    },
    "kernelspec": {
      "name": "python3",
      "display_name": "Python 3"
    }
  },
  "cells": [
    {
      "cell_type": "markdown",
      "metadata": {
        "id": "view-in-github",
        "colab_type": "text"
      },
      "source": [
        "<a href=\"https://colab.research.google.com/github/Monoing/test-python/blob/master/Python01.ipynb\" target=\"_parent\"><img src=\"https://colab.research.google.com/assets/colab-badge.svg\" alt=\"Open In Colab\"/></a>"
      ]
    },
    {
      "cell_type": "markdown",
      "metadata": {
        "id": "Gb5ytcdIvGfO",
        "colab_type": "text"
      },
      "source": [
        "# Let's start\n",
        "series 3 Minutes Python EP.1 \n",
        "\n"
      ]
    },
    {
      "cell_type": "markdown",
      "metadata": {
        "id": "13H5fEQrv0KF",
        "colab_type": "text"
      },
      "source": [
        "# คำสั่ง print\n"
      ]
    },
    {
      "cell_type": "code",
      "metadata": {
        "id": "cbyCZn-tvdM0",
        "colab_type": "code",
        "colab": {
          "base_uri": "https://localhost:8080/",
          "height": 34
        },
        "outputId": "3d64c349-f7ad-45e0-b92b-2eb02915096b"
      },
      "source": [
        "print('Hello world')"
      ],
      "execution_count": 1,
      "outputs": [
        {
          "output_type": "stream",
          "text": [
            "Hello world\n"
          ],
          "name": "stdout"
        }
      ]
    },
    {
      "cell_type": "code",
      "metadata": {
        "id": "_sZ2_BVHwIs0",
        "colab_type": "code",
        "colab": {
          "base_uri": "https://localhost:8080/",
          "height": 34
        },
        "outputId": "e678d050-ae3a-47d6-8fc8-c91bfb22a21e"
      },
      "source": [
        "name = 'Tanapon'\n",
        "lastname = 'Injun'\n",
        "fullname = name + ' ' + lastname\n",
        "print(fullname)"
      ],
      "execution_count": 2,
      "outputs": [
        {
          "output_type": "stream",
          "text": [
            "Tanapon Injun\n"
          ],
          "name": "stdout"
        }
      ]
    },
    {
      "cell_type": "markdown",
      "metadata": {
        "id": "bcmIF_2Bwx7M",
        "colab_type": "text"
      },
      "source": [
        "# คำสั่ง print.format\n",
        "นำค่าใน format แทนใน{}"
      ]
    },
    {
      "cell_type": "code",
      "metadata": {
        "id": "ca-eQm6JxD-E",
        "colab_type": "code",
        "colab": {
          "base_uri": "https://localhost:8080/",
          "height": 34
        },
        "outputId": "f59aefce-9855-43b5-b773-d3c876d61a01"
      },
      "source": [
        "print('My name is {}'.format(fullname))"
      ],
      "execution_count": 3,
      "outputs": [
        {
          "output_type": "stream",
          "text": [
            "My name is Tanapon Injun\n"
          ],
          "name": "stdout"
        }
      ]
    },
    {
      "cell_type": "markdown",
      "metadata": {
        "id": "AbxPcs_hx6OP",
        "colab_type": "text"
      },
      "source": [
        "#คำสั่ง print f-strings\n",
        "\n"
      ]
    },
    {
      "cell_type": "code",
      "metadata": {
        "id": "JhIGeYW3zZG-",
        "colab_type": "code",
        "colab": {
          "base_uri": "https://localhost:8080/",
          "height": 34
        },
        "outputId": "77e7b77a-5457-4271-cb2d-375988821a93"
      },
      "source": [
        "print(f'My name is {fullname}')"
      ],
      "execution_count": 4,
      "outputs": [
        {
          "output_type": "stream",
          "text": [
            "My name is Tanapon Injun\n"
          ],
          "name": "stdout"
        }
      ]
    },
    {
      "cell_type": "code",
      "metadata": {
        "id": "JuUR30dg0Ha5",
        "colab_type": "code",
        "colab": {
          "base_uri": "https://localhost:8080/",
          "height": 34
        },
        "outputId": "9af7ed7d-ff96-45bb-de32-2093f64ce867"
      },
      "source": [
        "money = 12341234\n",
        "print(f'I have money {money:,d}')"
      ],
      "execution_count": 9,
      "outputs": [
        {
          "output_type": "stream",
          "text": [
            "I have money 12,341,234\n"
          ],
          "name": "stdout"
        }
      ]
    }
  ]
}